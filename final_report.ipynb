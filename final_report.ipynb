{
 "cells": [
  {
   "cell_type": "markdown",
   "id": "a8dd8a14",
   "metadata": {},
   "source": [
    "  <div style=\"background-color: lightblue; padding: 40px; font-size: 40px;\">\n",
    "              Investigating Drivers For Telco customer churn \n",
    "</div>\n",
    "  \n",
    "  "
   ]
  },
  {
   "cell_type": "markdown",
   "id": "387d82c8",
   "metadata": {},
   "source": [
    "  The primary objective of this project is to empower companies with the knowledge and insights needed to enhance customer retention strategies. By gaining a deep understanding of the intricate thought processes that drive customer behaviors, preferences, and decisions, this project aims to provide actionable insights that enable businesses to tailor their offerings, improve engagement, and create long lasting customer relationships. "
   ]
  },
  {
   "cell_type": "markdown",
   "id": "d8b2216d",
   "metadata": {},
   "source": [
    "## Imports"
   ]
  },
  {
   "cell_type": "code",
   "execution_count": 1,
   "id": "3bf7ac02",
   "metadata": {},
   "outputs": [],
   "source": [
    "# Import pandas for data manipulation\n",
    "import pandas as pd\n",
    "\n",
    "# Import numpy for numerical operations\n",
    "import numpy as np\n",
    "\n",
    "# Import custom modules 'acquire' and 'prepare' for data acquisition and preparation\n",
    "import acquire\n",
    "from acquire import get_telco_data\n",
    "import prepare\n",
    "from prepare import split_function, prep_telco \n",
    "\n",
    "\n",
    "# Import train_test_split function for data splitting\n",
    "from sklearn.model_selection import train_test_split\n",
    "\n",
    "\n",
    "# Import matplotlib for data visualization\n",
    "import matplotlib.pyplot as plt\n",
    "\n",
    "\n",
    "# Import seaborn for enhanced visualization\n",
    "import seaborn as sns\n",
    "\n",
    "\n",
    "# Import scipy's stats module for statistical operations\n",
    "from scipy import stats\n",
    "\n",
    "\n",
    "# Import the warnings module to manage warning messages\n",
    "import warnings\n"
   ]
  },
  {
   "cell_type": "markdown",
   "id": "06455bd4",
   "metadata": {},
   "source": [
    "\n",
    "\n",
    "<div style=\"background-color: olive; padding: 20px; font-size: 20px;\">\n",
    "              Project Pipeline:-\n",
    "    - Plan --- Acquire --- Prepare --- Explore --- Model --- Deliver\n",
    "</div>\n",
    "  \n",
    "\n"
   ]
  },
  {
   "cell_type": "markdown",
   "id": "2d5589fd",
   "metadata": {},
   "source": [
    "## Plan"
   ]
  },
  {
   "cell_type": "markdown",
   "id": "deffc86b",
   "metadata": {},
   "source": [
    "- In this section asked several essential questions about the steps to follow during the entire project pipeline:-\n",
    "-  1. How/from where to acquire the data?\n",
    " - 2. How to prepare the data? what all features needs exploration? Any new features to create?How to clean the dataset? How the split ratio for the 3 dataset should be?\n",
    " -  3. Formulated questions to answer during the exploratory data analysis (EDA) phase.\n",
    " - 4. For the modeling phase of this project,chosen three distinct classification algorithms to analyze and predict customer churn: Logistic Regression, Random Forest, and K-Nearest Neighbors (KNN).\n",
    " -  5.The models are first trained on train dataset and validated on validation dataset. The last step before delivery is to evaluate and choose the best-performing model from the three models by testing it on the previously unseen test dataset. "
   ]
  },
  {
   "cell_type": "markdown",
   "id": "29aab5ed",
   "metadata": {},
   "source": [
    "## Acquire"
   ]
  },
  {
   "cell_type": "markdown",
   "id": "847b371f",
   "metadata": {},
   "source": [
    " - The data for this project was acquired from the database telco_churn.\n",
    " -   The get_db_url function in env module constructs a MySQL database URL, which the get_telco_data function from the acquire module uses to connect to the telco_churn database,fetchs the data, and returns it as a dataframe.\n",
    "\n",
    " - The dataset comprises of 7043 rows and 37 columns.\n",
    "\n",
    " - Each observation in the dataset represents an individual customer's information and interactions with the telco company.\n",
    " \n",
    " - Column Descriptions:\n",
    " | Column Name                  | Description                                          |\n",
    "|-----------------------------|------------------------------------------------------|\n",
    "| customer_id                  | Unique identifier for each customer.                |\n",
    "| gender                       | Gender of the customer.                             |\n",
    "| senior_citizen               | Indicates if the customer is a senior citizen (1) or not (0). |\n",
    "| partner                      | Indicates if the customer has a partner (Yes/No).    |\n",
    "| dependents                   | Indicates if the customer has dependents (Yes/No).   |\n",
    "| tenure                       | Number of months the customer has been with the company. |\n",
    "| phone_service                | Indicates if the customer has phone service (Yes/No). |\n",
    "| multiple_lines               | Indicates if the customer has multiple phone lines (Yes/No). |\n",
    "| internet_service_type_id    | Identifies the type of internet service the customer has. |\n",
    "| online_security              | Indicates if the customer has online security service (Yes/No). |\n",
    "| online_backup                | Indicates if the customer has online backup service (Yes/No). |\n",
    "| device_protection            | Indicates if the customer has device protection service (Yes/No). |\n",
    "| tech_support                 | Indicates if the customer has tech support service (Yes/No). |\n",
    "| streaming_tv                 | Indicates if the customer has streaming TV service (Yes/No). |\n",
    "| streaming_movies             | Indicates if the customer has streaming movie service (Yes/No). |\n",
    "| contract_type_id            | Identifies the type of contract the customer has.    |\n",
    "| paperless_billing           | Indicates if the customer has paperless billing (Yes/No). |\n",
    "| payment_type_id             | Identifies the type of payment method the customer uses. |\n",
    "| monthly_charges             | The amount charged to the customer per month.       |\n",
    "| total_charges               | The total amount charged to the customer.           |\n",
    "| churn                       | Indicates if the customer has churned (Yes/No).     |\n",
    "| internet_service_type       | Description of the internet service type.           |\n",
    "| payment_type                | Description of the payment method.                  |\n",
    "| contract_type               | Description of the contract type.                   |\n",
    "| partner_encoded             | Encoded version of the 'partner' column. 'Yes' is encoded as 1, 'No' is encoded as 0. |\n",
    "| dependents_encoded          | Encoded version of the 'dependents' column. 'Yes' is encoded as 1, 'No' is encoded as 0. |\n",
    "| phone_service_encoded       | Encoded version of the 'phone_service' column. 'Yes' is encoded as 1, 'No' is encoded as 0. |\n",
    "| paperless_billing_encoded   | Encoded version of the 'paperless_billing' column. 'Yes' is encoded as 1, 'No' is encoded as 0. |\n",
    "| churn_encoded               | Encoded version of the 'churn' column. 'Yes' is encoded as 1, 'No' is encoded as 0. |\n",
    "| gender_encoded              | Encoded version of the 'gender' column. 'Female' is encoded as 1, 'Male' is encoded as 0. |\n",
    "| contract_type_month_to_month| Binary column indicating if the contract type is 'Month-to-month'. 1 indicates 'Month-to-month', 0 indicates other contract types. |\n",
    "| total_charges               | Numerical column representing total charges.        |\n"
   ]
  },
  {
   "cell_type": "code",
   "execution_count": 44,
   "id": "3fbd9e18",
   "metadata": {},
   "outputs": [
    {
     "data": {
      "text/html": [
       "<div>\n",
       "<style scoped>\n",
       "    .dataframe tbody tr th:only-of-type {\n",
       "        vertical-align: middle;\n",
       "    }\n",
       "\n",
       "    .dataframe tbody tr th {\n",
       "        vertical-align: top;\n",
       "    }\n",
       "\n",
       "    .dataframe thead th {\n",
       "        text-align: right;\n",
       "    }\n",
       "</style>\n",
       "<table border=\"1\" class=\"dataframe\">\n",
       "  <thead>\n",
       "    <tr style=\"text-align: right;\">\n",
       "      <th></th>\n",
       "      <th>customer_id</th>\n",
       "      <th>gender</th>\n",
       "      <th>senior_citizen</th>\n",
       "      <th>partner</th>\n",
       "      <th>dependents</th>\n",
       "      <th>tenure</th>\n",
       "      <th>phone_service</th>\n",
       "      <th>multiple_lines</th>\n",
       "      <th>internet_service_type_id</th>\n",
       "      <th>online_security</th>\n",
       "      <th>...</th>\n",
       "      <th>device_protection</th>\n",
       "      <th>tech_support</th>\n",
       "      <th>streaming_tv</th>\n",
       "      <th>streaming_movies</th>\n",
       "      <th>internet_service_type_id</th>\n",
       "      <th>internet_service_type</th>\n",
       "      <th>payment_type_id</th>\n",
       "      <th>payment_type</th>\n",
       "      <th>contract_type_id</th>\n",
       "      <th>contract_type</th>\n",
       "    </tr>\n",
       "  </thead>\n",
       "  <tbody>\n",
       "    <tr>\n",
       "      <th>4758</th>\n",
       "      <td>3519-ZKXGG</td>\n",
       "      <td>Female</td>\n",
       "      <td>0</td>\n",
       "      <td>Yes</td>\n",
       "      <td>No</td>\n",
       "      <td>3</td>\n",
       "      <td>Yes</td>\n",
       "      <td>Yes</td>\n",
       "      <td>2</td>\n",
       "      <td>No</td>\n",
       "      <td>...</td>\n",
       "      <td>No</td>\n",
       "      <td>No</td>\n",
       "      <td>No</td>\n",
       "      <td>No</td>\n",
       "      <td>2</td>\n",
       "      <td>Fiber optic</td>\n",
       "      <td>1</td>\n",
       "      <td>Electronic check</td>\n",
       "      <td>1</td>\n",
       "      <td>Month-to-month</td>\n",
       "    </tr>\n",
       "    <tr>\n",
       "      <th>3241</th>\n",
       "      <td>5982-XMDEX</td>\n",
       "      <td>Female</td>\n",
       "      <td>0</td>\n",
       "      <td>No</td>\n",
       "      <td>No</td>\n",
       "      <td>65</td>\n",
       "      <td>Yes</td>\n",
       "      <td>Yes</td>\n",
       "      <td>3</td>\n",
       "      <td>No internet service</td>\n",
       "      <td>...</td>\n",
       "      <td>No internet service</td>\n",
       "      <td>No internet service</td>\n",
       "      <td>No internet service</td>\n",
       "      <td>No internet service</td>\n",
       "      <td>3</td>\n",
       "      <td>None</td>\n",
       "      <td>3</td>\n",
       "      <td>Bank transfer (automatic)</td>\n",
       "      <td>3</td>\n",
       "      <td>Two year</td>\n",
       "    </tr>\n",
       "    <tr>\n",
       "      <th>5995</th>\n",
       "      <td>6907-NZZIJ</td>\n",
       "      <td>Female</td>\n",
       "      <td>0</td>\n",
       "      <td>No</td>\n",
       "      <td>No</td>\n",
       "      <td>36</td>\n",
       "      <td>Yes</td>\n",
       "      <td>Yes</td>\n",
       "      <td>2</td>\n",
       "      <td>No</td>\n",
       "      <td>...</td>\n",
       "      <td>No</td>\n",
       "      <td>No</td>\n",
       "      <td>Yes</td>\n",
       "      <td>Yes</td>\n",
       "      <td>2</td>\n",
       "      <td>Fiber optic</td>\n",
       "      <td>1</td>\n",
       "      <td>Electronic check</td>\n",
       "      <td>1</td>\n",
       "      <td>Month-to-month</td>\n",
       "    </tr>\n",
       "  </tbody>\n",
       "</table>\n",
       "<p>3 rows × 37 columns</p>\n",
       "</div>"
      ],
      "text/plain": [
       "     customer_id  gender  senior_citizen partner dependents  tenure  \\\n",
       "4758  3519-ZKXGG  Female               0     Yes         No       3   \n",
       "3241  5982-XMDEX  Female               0      No         No      65   \n",
       "5995  6907-NZZIJ  Female               0      No         No      36   \n",
       "\n",
       "     phone_service multiple_lines internet_service_type_id  \\\n",
       "4758           Yes            Yes                        2   \n",
       "3241           Yes            Yes                        3   \n",
       "5995           Yes            Yes                        2   \n",
       "\n",
       "          online_security  ...    device_protection         tech_support  \\\n",
       "4758                   No  ...                   No                   No   \n",
       "3241  No internet service  ...  No internet service  No internet service   \n",
       "5995                   No  ...                   No                   No   \n",
       "\n",
       "             streaming_tv     streaming_movies internet_service_type_id  \\\n",
       "4758                   No                   No                        2   \n",
       "3241  No internet service  No internet service                        3   \n",
       "5995                  Yes                  Yes                        2   \n",
       "\n",
       "      internet_service_type payment_type_id               payment_type  \\\n",
       "4758            Fiber optic               1           Electronic check   \n",
       "3241                   None               3  Bank transfer (automatic)   \n",
       "5995            Fiber optic               1           Electronic check   \n",
       "\n",
       "      contract_type_id   contract_type  \n",
       "4758                 1  Month-to-month  \n",
       "3241                 3        Two year  \n",
       "5995                 1  Month-to-month  \n",
       "\n",
       "[3 rows x 37 columns]"
      ]
     },
     "execution_count": 44,
     "metadata": {},
     "output_type": "execute_result"
    }
   ],
   "source": [
    "# Load the telco dataset from telco_churn database using the function get_telco_data from acquire module\n",
    "telco = acquire.get_telco_data()\n",
    "telco.sample(3)"
   ]
  },
  {
   "cell_type": "markdown",
   "id": "68922465",
   "metadata": {},
   "source": [
    "## Prepare"
   ]
  },
  {
   "cell_type": "markdown",
   "id": "371a87c5",
   "metadata": {},
   "source": [
    " - Steps taken to clean the fetched data: \n",
    "     - Missing values will be handled using the .dropna method\n",
    "     - Removing Duplicate Columns\n",
    "     - Converting Column Names to Lowercase\n",
    "     - Categorical columns are encoded using one-hot encoding \n",
    "     - Binary categorical variables are encoded by mapping to numeric values\n",
    "     - Numerical Column Conversion by replacing space with zero\n",
    "     - Creating Additional Features for analysis\n",
    "     - cleaned and preprocessed data is returned as a dataframe"
   ]
  },
  {
   "cell_type": "markdown",
   "id": "631cb2e3",
   "metadata": {},
   "source": [
    "#### Import your prepare function and use it to clean your data here\n"
   ]
  },
  {
   "cell_type": "code",
   "execution_count": 45,
   "id": "661f4bd0",
   "metadata": {},
   "outputs": [
    {
     "data": {
      "text/html": [
       "<div>\n",
       "<style scoped>\n",
       "    .dataframe tbody tr th:only-of-type {\n",
       "        vertical-align: middle;\n",
       "    }\n",
       "\n",
       "    .dataframe tbody tr th {\n",
       "        vertical-align: top;\n",
       "    }\n",
       "\n",
       "    .dataframe thead th {\n",
       "        text-align: right;\n",
       "    }\n",
       "</style>\n",
       "<table border=\"1\" class=\"dataframe\">\n",
       "  <thead>\n",
       "    <tr style=\"text-align: right;\">\n",
       "      <th></th>\n",
       "      <th>customer_id</th>\n",
       "      <th>gender</th>\n",
       "      <th>senior_citizen</th>\n",
       "      <th>partner</th>\n",
       "      <th>dependents</th>\n",
       "      <th>tenure</th>\n",
       "      <th>phone_service</th>\n",
       "      <th>multiple_lines</th>\n",
       "      <th>internet_service_type_id</th>\n",
       "      <th>online_security</th>\n",
       "      <th>...</th>\n",
       "      <th>streaming_movies_Yes</th>\n",
       "      <th>device_protection_No internet service</th>\n",
       "      <th>device_protection_Yes</th>\n",
       "      <th>partner_encoded</th>\n",
       "      <th>dependents_encoded</th>\n",
       "      <th>phone_service_encoded</th>\n",
       "      <th>paperless_billing_encoded</th>\n",
       "      <th>churn_encoded</th>\n",
       "      <th>gender_encoded</th>\n",
       "      <th>contract_type_month_to_month</th>\n",
       "    </tr>\n",
       "  </thead>\n",
       "  <tbody>\n",
       "    <tr>\n",
       "      <th>5671</th>\n",
       "      <td>5935-FCCNB</td>\n",
       "      <td>Female</td>\n",
       "      <td>1</td>\n",
       "      <td>No</td>\n",
       "      <td>No</td>\n",
       "      <td>17</td>\n",
       "      <td>Yes</td>\n",
       "      <td>Yes</td>\n",
       "      <td>2</td>\n",
       "      <td>No</td>\n",
       "      <td>...</td>\n",
       "      <td>1</td>\n",
       "      <td>0</td>\n",
       "      <td>0</td>\n",
       "      <td>0</td>\n",
       "      <td>0</td>\n",
       "      <td>1</td>\n",
       "      <td>1</td>\n",
       "      <td>0</td>\n",
       "      <td>1</td>\n",
       "      <td>1</td>\n",
       "    </tr>\n",
       "    <tr>\n",
       "      <th>5365</th>\n",
       "      <td>5110-CHOPY</td>\n",
       "      <td>Female</td>\n",
       "      <td>0</td>\n",
       "      <td>No</td>\n",
       "      <td>No</td>\n",
       "      <td>60</td>\n",
       "      <td>No</td>\n",
       "      <td>No phone service</td>\n",
       "      <td>1</td>\n",
       "      <td>Yes</td>\n",
       "      <td>...</td>\n",
       "      <td>1</td>\n",
       "      <td>0</td>\n",
       "      <td>1</td>\n",
       "      <td>0</td>\n",
       "      <td>0</td>\n",
       "      <td>0</td>\n",
       "      <td>0</td>\n",
       "      <td>0</td>\n",
       "      <td>1</td>\n",
       "      <td>0</td>\n",
       "    </tr>\n",
       "    <tr>\n",
       "      <th>2870</th>\n",
       "      <td>4950-BDEUX</td>\n",
       "      <td>Male</td>\n",
       "      <td>0</td>\n",
       "      <td>No</td>\n",
       "      <td>No</td>\n",
       "      <td>35</td>\n",
       "      <td>No</td>\n",
       "      <td>No phone service</td>\n",
       "      <td>1</td>\n",
       "      <td>No</td>\n",
       "      <td>...</td>\n",
       "      <td>1</td>\n",
       "      <td>0</td>\n",
       "      <td>1</td>\n",
       "      <td>0</td>\n",
       "      <td>0</td>\n",
       "      <td>0</td>\n",
       "      <td>0</td>\n",
       "      <td>0</td>\n",
       "      <td>0</td>\n",
       "      <td>1</td>\n",
       "    </tr>\n",
       "  </tbody>\n",
       "</table>\n",
       "<p>3 rows × 50 columns</p>\n",
       "</div>"
      ],
      "text/plain": [
       "     customer_id  gender  senior_citizen partner dependents  tenure  \\\n",
       "5671  5935-FCCNB  Female               1      No         No      17   \n",
       "5365  5110-CHOPY  Female               0      No         No      60   \n",
       "2870  4950-BDEUX    Male               0      No         No      35   \n",
       "\n",
       "     phone_service    multiple_lines  internet_service_type_id  \\\n",
       "5671           Yes               Yes                         2   \n",
       "5365            No  No phone service                         1   \n",
       "2870            No  No phone service                         1   \n",
       "\n",
       "     online_security  ... streaming_movies_Yes  \\\n",
       "5671              No  ...                    1   \n",
       "5365             Yes  ...                    1   \n",
       "2870              No  ...                    1   \n",
       "\n",
       "     device_protection_No internet service device_protection_Yes  \\\n",
       "5671                                     0                     0   \n",
       "5365                                     0                     1   \n",
       "2870                                     0                     1   \n",
       "\n",
       "     partner_encoded dependents_encoded  phone_service_encoded  \\\n",
       "5671               0                  0                      1   \n",
       "5365               0                  0                      0   \n",
       "2870               0                  0                      0   \n",
       "\n",
       "     paperless_billing_encoded  churn_encoded  gender_encoded  \\\n",
       "5671                         1              0               1   \n",
       "5365                         0              0               1   \n",
       "2870                         0              0               0   \n",
       "\n",
       "      contract_type_month_to_month  \n",
       "5671                             1  \n",
       "5365                             0  \n",
       "2870                             1  \n",
       "\n",
       "[3 rows x 50 columns]"
      ]
     },
     "execution_count": 45,
     "metadata": {},
     "output_type": "execute_result"
    }
   ],
   "source": [
    "# Use the prep_telco function to clean the data\n",
    "telco = prep_telco()\n",
    "telco.sample(3)"
   ]
  },
  {
   "cell_type": "code",
   "execution_count": 4,
   "id": "0cd375f9",
   "metadata": {},
   "outputs": [
    {
     "name": "stdout",
     "output_type": "stream",
     "text": [
      "<class 'pandas.core.frame.DataFrame'>\n",
      "RangeIndex: 7043 entries, 0 to 7042\n",
      "Data columns (total 50 columns):\n",
      " #   Column                                 Non-Null Count  Dtype  \n",
      "---  ------                                 --------------  -----  \n",
      " 0   customer_id                            7043 non-null   object \n",
      " 1   gender                                 7043 non-null   object \n",
      " 2   senior_citizen                         7043 non-null   int64  \n",
      " 3   partner                                7043 non-null   object \n",
      " 4   dependents                             7043 non-null   object \n",
      " 5   tenure                                 7043 non-null   int64  \n",
      " 6   phone_service                          7043 non-null   object \n",
      " 7   multiple_lines                         7043 non-null   object \n",
      " 8   internet_service_type_id               7043 non-null   int64  \n",
      " 9   online_security                        7043 non-null   object \n",
      " 10  online_backup                          7043 non-null   object \n",
      " 11  device_protection                      7043 non-null   object \n",
      " 12  tech_support                           7043 non-null   object \n",
      " 13  streaming_tv                           7043 non-null   object \n",
      " 14  streaming_movies                       7043 non-null   object \n",
      " 15  contract_type_id                       7043 non-null   int64  \n",
      " 16  paperless_billing                      7043 non-null   object \n",
      " 17  payment_type_id                        7043 non-null   int64  \n",
      " 18  monthly_charges                        7043 non-null   float64\n",
      " 19  total_charges                          7043 non-null   float64\n",
      " 20  churn                                  7043 non-null   object \n",
      " 21  internet_service_type                  7043 non-null   object \n",
      " 22  payment_type                           7043 non-null   object \n",
      " 23  contract_type                          7043 non-null   object \n",
      " 24  multiple_lines_No phone service        7043 non-null   int64  \n",
      " 25  multiple_lines_Yes                     7043 non-null   int64  \n",
      " 26  online_security_No internet service    7043 non-null   int64  \n",
      " 27  online_security_Yes                    7043 non-null   int64  \n",
      " 28  online_backup_No internet service      7043 non-null   int64  \n",
      " 29  online_backup_Yes                      7043 non-null   int64  \n",
      " 30  payment_type_Credit card (automatic)   7043 non-null   int64  \n",
      " 31  payment_type_Electronic check          7043 non-null   int64  \n",
      " 32  payment_type_Mailed check              7043 non-null   int64  \n",
      " 33  contract_type_One year                 7043 non-null   int64  \n",
      " 34  contract_type_Two year                 7043 non-null   int64  \n",
      " 35  tech_support_No internet service       7043 non-null   int64  \n",
      " 36  tech_support_Yes                       7043 non-null   int64  \n",
      " 37  streaming_tv_No internet service       7043 non-null   int64  \n",
      " 38  streaming_tv_Yes                       7043 non-null   int64  \n",
      " 39  streaming_movies_No internet service   7043 non-null   int64  \n",
      " 40  streaming_movies_Yes                   7043 non-null   int64  \n",
      " 41  device_protection_No internet service  7043 non-null   int64  \n",
      " 42  device_protection_Yes                  7043 non-null   int64  \n",
      " 43  partner_encoded                        7043 non-null   int64  \n",
      " 44  dependents_encoded                     7043 non-null   int64  \n",
      " 45  phone_service_encoded                  7043 non-null   int64  \n",
      " 46  paperless_billing_encoded              7043 non-null   int64  \n",
      " 47  churn_encoded                          7043 non-null   int64  \n",
      " 48  gender_encoded                         7043 non-null   int64  \n",
      " 49  contract_type_month_to_month           7043 non-null   int64  \n",
      "dtypes: float64(2), int64(31), object(17)\n",
      "memory usage: 2.7+ MB\n"
     ]
    }
   ],
   "source": [
    "telco.info()"
   ]
  },
  {
   "cell_type": "markdown",
   "id": "17a31102",
   "metadata": {},
   "source": [
    "## Explore"
   ]
  },
  {
   "cell_type": "code",
   "execution_count": 46,
   "id": "4e5eaa86",
   "metadata": {},
   "outputs": [],
   "source": [
    "# Split data into three parts train,validate and test set (before the start of exploration) \n",
    "# Training Set (train): Approximately 60% of the original dataset (20% of 80%)\n",
    "# Validation Set (validate): Approximately 15% of the original dataset (25% of 60%)\n",
    "# Test Set (test): Approximately 20% of the original dataset\n",
    "train, validate, test = split_function(telco, 'churn')"
   ]
  },
  {
   "cell_type": "code",
   "execution_count": null,
   "id": "56ac945b",
   "metadata": {},
   "outputs": [],
   "source": [
    "Exploring the data based on these questions"
   ]
  },
  {
   "cell_type": "markdown",
   "id": "4aac1386",
   "metadata": {},
   "source": [
    "<div style=\"background-color: lightgreen; padding: 40px; font-size: 18px;\">\n",
    "    \n",
    "    \n",
    " -1. How proficiently can a range of classification models predict customer churn based on tenure, monthly charges, and total charges? \n",
    "\n",
    "    \n",
    " -2. How does paperless billing impact churn?  \n",
    "    \n",
    " -3. Identify the major contributing factor/factors of customer churn ? \n",
    "    \n",
    " -4. Do more females churn than males?\n",
    "\n",
    "    \n",
    "</div> "
   ]
  },
  {
   "cell_type": "markdown",
   "id": "4f02a9a3",
   "metadata": {},
   "source": [
    "   1. How proficiently can a range of classification models predict customer churn based on tenure, monthly charges, and total charges?\n",
    "\n",
    "       - Question: To what extent can different classification models effectively forecast customer churn using factors like tenure, monthly charges, and total charges?\n",
    "       - Approach: Implement various classification models such as Logistic Regression, Decision Trees, Random Forest etc. Train and evaluate each model's performance using metrics like accuracy, precision, recall, and F1-score. Visualize the model comparisons through ROC curves and confusion matrices.\n",
    "      - Insights: By comparing the performance of different classification models, you can identify the model that offers the highest accuracy in predicting customer churn based on tenure, monthly charges, and total charges. This analysis aids in selecting the most suitable model for the specific churn prediction task.\n",
    "\n",
    "\n",
    "\n",
    "\n",
    "\n"
   ]
  },
  {
   "cell_type": "code",
   "execution_count": 11,
   "id": "0ae50c4f",
   "metadata": {},
   "outputs": [
    {
     "data": {
      "image/png": "[encoded data removed]",
      "text/plain": [
       "<Figure size 1200x300 with 3 Axes>"
      ]
     },
     "metadata": {},
     "output_type": "display_data"
    }
   ],
   "source": [
    "# Analyzing Churn Drivers: Tenure, Monthly Charges, Total Charges\n",
    "f, axes = plt.subplots(1, 3, figsize=(12,3))\n",
    "sns.barplot(data=train, x=\"churn\", y=\"tenure\",ax=axes[0])\n",
    "l0 = axes[0].axhline(train.tenure.mean(),color='black', linestyle='dotted')\n",
    "sns.barplot(data=train, x=\"churn\", y=\"monthly_charges\",ax=axes[1])\n",
    "l1 = axes[1].axhline(train.monthly_charges.mean(), color='black', linestyle='dotted')\n",
    "sns.barplot(data=train, x=\"churn\", y=\"total_charges\",ax=axes[2])\n",
    "l2 = axes[2].axhline(train.total_charges.mean(), color='black', linestyle='dotted')\n",
    "plt.show()"
   ]
  },
  {
   "cell_type": "markdown",
   "id": "9d41ca25",
   "metadata": {},
   "source": [
    "- Here the dotted line represents the overall mean tenure across all customers. Average tenure of churned customers is significantly lower than the mean, it suggests that customers with shorter tenure are more likely to churn.\n",
    "\n",
    "- Since average monthly charges of churned customers are higher than the mean, it implies that customers with higher monthly charges might be more prone to churning.\n",
    " \n",
    "- Since the average total charges of churned customers differ significantly from the mean, it could indicate  that the customers with shorter tenure are more likely to churn."
   ]
  },
  {
   "cell_type": "markdown",
   "id": "6d86c36d",
   "metadata": {},
   "source": [
    "- Let's do a Hypothesis test of total_charges and monthly_charges to test the correlation\n",
    " - Type of test:- Pearson correlation test \n",
    "\n",
    " - Null Hypothesis (H0): There is no significant linear correlation between 'total_charges' and 'monthly_charges'.\n",
    "\n",
    " - Alternative Hypothesis (H1): There is a significant linear correlation between 'total_charges' and 'monthly_charges'.    "
   ]
  },
  {
   "cell_type": "code",
   "execution_count": 12,
   "id": "443d5c9e",
   "metadata": {},
   "outputs": [
    {
     "name": "stdout",
     "output_type": "stream",
     "text": [
      "Reject the null hypothesis. There is a significant linear correlation.\n",
      "Pearson correlation coefficient: 0.6542704940513556\n",
      "p-value: 0.0\n"
     ]
    }
   ],
   "source": [
    "# Calculate Pearson correlation coefficient and p-value\n",
    "correlation_coefficient, p_value = stats.pearsonr(train['total_charges'], train['monthly_charges'])\n",
    "\n",
    "# Set significance level\n",
    "alpha = 0.05\n",
    "\n",
    "# Interpret results\n",
    "if p_value < alpha:\n",
    "    print(\"Reject the null hypothesis. There is a significant linear correlation.\")\n",
    "else:\n",
    "    print(\"Fail to reject the null hypothesis. There is no significant linear correlation.\")\n",
    "\n",
    "# Print the correlation coefficient and p-value\n",
    "print(\"Pearson correlation coefficient:\", correlation_coefficient)\n",
    "print(\"p-value:\", p_value)\n"
   ]
  },
  {
   "cell_type": "markdown",
   "id": "bd4cc97e",
   "metadata": {},
   "source": [
    " Summary:\n",
    " - The p-value is smaller than the significance level (alpha) of 0.05. This indicates strong evidence against the null hypothesis.\n",
    "    \n",
    " - The Pearson correlation coefficient value of approximately 0.651 indicates a moderate positive linear correlation between the two variables. As 'total_charges' increase, 'monthly_charges' also tends to increase.\n",
    "    \n",
    "    \n",
    "In short, the code confirms a significant positive linear correlation between 'total_charges' and 'monthly_charges' in the dataset."
   ]
  },
  {
   "cell_type": "markdown",
   "id": "f6607908",
   "metadata": {},
   "source": [
    " \n",
    " - Let's do a Hypothesis test of total_charges and tenure to test the correlation\n",
    " - Type of test:-        Statistical Tests for total charges and tenure\n",
    " -  Hypothesis:-\n",
    "\n",
    " - Null Hypothesis (H0): There is no significant linear correlation between 'total_charges' and 'tenure'.\n",
    " - Alternative Hypothesis (H1): There is a significant linear correlation between 'total_charges' and 'tenure'.\n"
   ]
  },
  {
   "cell_type": "code",
   "execution_count": 13,
   "id": "f56c24ae",
   "metadata": {},
   "outputs": [
    {
     "name": "stdout",
     "output_type": "stream",
     "text": [
      "Reject the null hypothesis. There is a significant linear correlation.\n",
      "Pearson correlation coefficient: 0.8232502341130677\n",
      "p-value: 0.0\n"
     ]
    }
   ],
   "source": [
    "# Calculate Pearson correlation coefficient and p-value\n",
    "correlation_coefficient, p_value = stats.pearsonr(train['total_charges'], train['tenure'])\n",
    "\n",
    "# Set significance level\n",
    "alpha = 0.05\n",
    "\n",
    "# Interpret results\n",
    "if p_value < alpha:\n",
    "    print(\"Reject the null hypothesis. There is a significant linear correlation.\")\n",
    "else:\n",
    "    print(\"Fail to reject the null hypothesis. There is no significant linear correlation.\")\n",
    "\n",
    "# Print the correlation coefficient and p-value\n",
    "print(\"Pearson correlation coefficient:\", correlation_coefficient)\n",
    "print(\"p-value:\", p_value)\n"
   ]
  },
  {
   "cell_type": "markdown",
   "id": "ccf29970",
   "metadata": {},
   "source": [
    "\n",
    " - Exploration Summary:-\n",
    "    \n",
    " - In conclusion, both correlations can provide valuable insights into churn prediction:\n",
    "\n",
    "    - The correlation between 'total_charges' and 'monthly_charges' indirectly informs about customer behavior associated with higher charges.\n",
    "    - The correlation between 'total_charges' and 'tenure' directly indicates that longer-tenured, higher-spending customers are less likely to churn, which could be a crucial factor in churn prediction models.\n"
   ]
  },
  {
   "cell_type": "markdown",
   "id": "991a6a3d",
   "metadata": {},
   "source": [
    " ## - Modeling"
   ]
  },
  {
   "cell_type": "code",
   "execution_count": 38,
   "id": "da952ac1",
   "metadata": {},
   "outputs": [],
   "source": [
    "#list includes columns that are being excluded from the dataset\n",
    "#keeping total charges\n",
    "# For training set\n",
    "columns_to_drop =['customer_id', 'gender', 'senior_citizen', 'partner', 'dependents',\n",
    "       'tenure', 'phone_service', 'multiple_lines', 'internet_service_type_id',\n",
    "       'online_security', 'online_backup', 'device_protection', 'tech_support',\n",
    "       'streaming_tv', 'streaming_movies', 'contract_type_id',\n",
    "       'paperless_billing', 'payment_type_id', 'monthly_charges',\n",
    "        'churn', 'internet_service_type', 'payment_type',\n",
    "       'contract_type', 'multiple_lines_No phone service',\n",
    "       'multiple_lines_Yes', 'online_security_No internet service',\n",
    "       'online_security_Yes', 'online_backup_No internet service',\n",
    "       'online_backup_Yes', 'payment_type_Credit card (automatic)',\n",
    "       'payment_type_Electronic check', 'payment_type_Mailed check',\n",
    "       'contract_type_One year', 'contract_type_Two year',\n",
    "       'tech_support_No internet service', 'tech_support_Yes',\n",
    "       'streaming_tv_No internet service', 'streaming_tv_Yes',\n",
    "       'streaming_movies_No internet service', 'streaming_movies_Yes',\n",
    "       'device_protection_No internet service', 'device_protection_Yes',\n",
    "       'partner_encoded', 'dependents_encoded', 'phone_service_encoded',\n",
    "       'paperless_billing_encoded', 'churn_encoded', 'gender_encoded',\n",
    "       'contract_type_month_to_month']\n",
    "\n",
    "\n",
    "#prepares the training, validation, and testing datasets \n",
    "#by selecting specific columns and target variable for each set\n",
    "\n",
    "X_train = train.drop(columns=columns_to_drop)\n",
    "y_train = train['churn_encoded']\n",
    "\n",
    "# For validation set\n",
    "X_val = validate.drop(columns=columns_to_drop)\n",
    "y_val = validate['churn_encoded']\n",
    "\n",
    "# For testing set\n",
    "X_test = test.drop(columns=columns_to_drop)\n",
    "y_test = test['churn_encoded']\n",
    "\n"
   ]
  },
  {
   "cell_type": "markdown",
   "id": "9214edc1",
   "metadata": {},
   "source": [
    "<div style=\"background-color: lightblue; padding: 40px; font-size: 18px;\">\n",
    "            Implementing Logistic Regression, Random Forest, and K-Nearest Neighbors (KNN) classification algorithms using Python's scikit-learn library\n",
    "</div>"
   ]
  },
  {
   "cell_type": "code",
   "execution_count": 39,
   "id": "bd67ee26",
   "metadata": {},
   "outputs": [
    {
     "name": "stdout",
     "output_type": "stream",
     "text": [
      "Model: Logistic Regression\n",
      "Accuracy: 0.7346\n",
      "Precision: 0.0000\n",
      "Recall: 0.0000\n",
      "F1-Score: 0.0000\n",
      "ROC-AUC: 0.5000\n",
      "confusion_matrix:\n",
      "---------------\n",
      "[[1035    0]\n",
      " [ 374    0]]\n",
      "==================================================\n",
      "Model: Random Forest\n",
      "Accuracy: 0.6444\n",
      "Precision: 0.3325\n",
      "Recall: 0.3369\n",
      "F1-Score: 0.3347\n",
      "ROC-AUC: 0.5462\n",
      "confusion_matrix:\n",
      "---------------\n",
      "[[782 253]\n",
      " [248 126]]\n",
      "==================================================\n",
      "Model: K-Nearest Neighbors\n",
      "Accuracy: 0.7175\n",
      "Precision: 0.4394\n",
      "Recall: 0.2326\n",
      "F1-Score: 0.3042\n",
      "ROC-AUC: 0.5627\n",
      "confusion_matrix:\n",
      "---------------\n",
      "[[924 111]\n",
      " [287  87]]\n",
      "==================================================\n"
     ]
    },
    {
     "name": "stderr",
     "output_type": "stream",
     "text": [
      "/opt/homebrew/anaconda3/lib/python3.11/site-packages/sklearn/metrics/_classification.py:1344: UndefinedMetricWarning: Precision is ill-defined and being set to 0.0 due to no predicted samples. Use `zero_division` parameter to control this behavior.\n",
      "  _warn_prf(average, modifier, msg_start, len(result))\n"
     ]
    }
   ],
   "source": [
    "from sklearn.model_selection import train_test_split\n",
    "from sklearn.linear_model import LogisticRegression\n",
    "from sklearn.ensemble import RandomForestClassifier\n",
    "from sklearn.neighbors import KNeighborsClassifier\n",
    "from sklearn.metrics import accuracy_score, precision_score, recall_score, f1_score, roc_auc_score, confusion_matrix\n",
    "\n",
    "\n",
    "# Logistic Regression\n",
    "logreg_model = LogisticRegression()\n",
    "logreg_model.fit(X_train, y_train)\n",
    "logreg_y_val_pred = logreg_model.predict(X_val)\n",
    "\n",
    "# Random Forest\n",
    "rf_model = RandomForestClassifier()\n",
    "rf_model.fit(X_train, y_train)\n",
    "rf_y_val_pred = rf_model.predict(X_val)\n",
    "\n",
    "# K-Nearest Neighbors (KNN)\n",
    "knn_model = KNeighborsClassifier()\n",
    "knn_model.fit(X_train, y_train)\n",
    "knn_y_val_pred = knn_model.predict(X_val)\n",
    "\n",
    "# Calculate evaluation metrics for each model\n",
    "def evaluate_model(y_true, y_pred, model_name):\n",
    "    accuracy = accuracy_score(y_true, y_pred)\n",
    "    precision = precision_score(y_true, y_pred)\n",
    "    recall = recall_score(y_true, y_pred)\n",
    "    f1 = f1_score(y_true, y_pred)\n",
    "    #(Receiver Operating Characteristic - Area Under the Curve)\n",
    "    #ROC-AUC is a commonly used evaluation metric for binary classification problems\n",
    "    roc_auc = roc_auc_score(y_true, y_pred)\n",
    "    \n",
    "    print(f\"Model: {model_name}\")\n",
    "    print(f\"Accuracy: {accuracy:.4f}\")\n",
    "    print(f\"Precision: {precision:.4f}\")\n",
    "    print(f\"Recall: {recall:.4f}\")\n",
    "    print(f\"F1-Score: {f1:.4f}\")\n",
    "    print(f\"ROC-AUC: {roc_auc:.4f}\")\n",
    "    print(\"confusion_matrix:\")\n",
    "    print(\"---------------\")\n",
    "    print(confusion_matrix(y_true, y_pred))\n",
    "    print(\"=\" * 50)\n",
    "\n",
    "evaluate_model(y_val, logreg_y_val_pred, \"Logistic Regression\")\n",
    "evaluate_model(y_val, rf_y_val_pred, \"Random Forest\")\n",
    "evaluate_model(y_val, knn_y_val_pred, \"K-Nearest Neighbors\")\n"
   ]
  },
  {
   "cell_type": "code",
   "execution_count": 40,
   "id": "3738246b",
   "metadata": {},
   "outputs": [
    {
     "name": "stdout",
     "output_type": "stream",
     "text": [
      "Model: Top Model on Test Set\n",
      "Accuracy: 0.7069\n",
      "Precision: 0.4058\n",
      "Recall: 0.2246\n",
      "F1-Score: 0.2892\n",
      "ROC-AUC: 0.5529\n",
      "confusion_matrix:\n",
      "---------------\n",
      "[[912 123]\n",
      " [290  84]]\n",
      "==================================================\n"
     ]
    }
   ],
   "source": [
    "# Train and fine-tune models on the training set and validate on the validation set\n",
    "\n",
    "# Assuming 'top_model' is the selected top-performing model\n",
    "top_model = KNeighborsClassifier() \n",
    "\n",
    "# Train the top model on the entire training set\n",
    "top_model.fit(X_train, y_train)\n",
    "\n",
    "# Make predictions on the test set\n",
    "test_predictions = top_model.predict(X_test)\n",
    "\n",
    "# Calculate evaluation metrics for the top model on the test set\n",
    "evaluate_model(y_test, test_predictions, \"Top Model on Test Set\")\n"
   ]
  },
  {
   "cell_type": "markdown",
   "id": "838c738b",
   "metadata": {},
   "source": [
    "<div style=\"background-color: lightgreen; padding: 40px; font-size: 18px;\">\n",
    " - Summary:-\n",
    "    \n",
    "  - Of the three models, K-Nearest Neighbors is the best model as it has the highest accuracy, precision, and recall.    \n",
    "    \n",
    "  - This comprehensive assessment aids in the informed selection of the K-Nearest Neighbors model as the optimal choice for predicting customer churn, facilitating the development of targeted strategies to mitigate churn and enhance customer retention.\n",
    " \n",
    "</div> \n"
   ]
  },
  {
   "cell_type": "markdown",
   "id": "ab688b09",
   "metadata": {},
   "source": [
    " - 2. How does paperless billing impact churn?\n",
    "\n",
    "    - Question: Does having paperless billing affect the likelihood of churn?\n",
    "    - Approach: Create a contingency table and perform a chi-squared test to determine if paperless billing and churn are dependent on each other. Visualize the proportions of churned and non-churned customers with and without paperless billing.\n",
    "    - Insights: If paperless billing is found to be significantly associated with churn, it indicates that billing preferences play a role in customer decisions to churn."
   ]
  },
  {
   "cell_type": "code",
   "execution_count": 54,
   "id": "f19de612",
   "metadata": {},
   "outputs": [
    {
     "data": {
      "image/png": "[encoded data removed]",
      "text/plain": [
       "<Figure size 800x600 with 1 Axes>"
      ]
     },
     "metadata": {},
     "output_type": "display_data"
    },
    {
     "name": "stdout",
     "output_type": "stream",
     "text": [
      "+----------------------+-----------+------------+\n",
      "|                      | Churn: No | Churn: Yes |\n",
      "+----------------------+-----------+------------+\n",
      "| No Paperless Billing |   1432    |    291     |\n",
      "|  Paperless Billing   |   1672    |    830     |\n",
      "+----------------------+-----------+------------+\n",
      "Chi-squared statistic: 137.97271416913495\n",
      "p-value: 7.388506500754525e-32\n",
      "Reject the null hypothesis. There is a significant association.\n"
     ]
    }
   ],
   "source": [
    "import pandas as pd\n",
    "import seaborn as sns\n",
    "import matplotlib.pyplot as plt\n",
    "from scipy import stats\n",
    "from tabulate import tabulate\n",
    "\n",
    "# Load your data\n",
    "# Assuming you have 'train' DataFrame\n",
    "\n",
    "# Create a contingency table\n",
    "contingency_table = pd.crosstab(train['paperless_billing_encoded'], train['churn_encoded'])\n",
    "\n",
    "# Perform chi-squared test\n",
    "chi2, p_value, dof, expected = stats.chi2_contingency(contingency_table)\n",
    "\n",
    "# Set significance level\n",
    "alpha = 0.05\n",
    "\n",
    "# Interpret results\n",
    "if p_value < alpha:\n",
    "    significance = \"Reject the null hypothesis. There is a significant association.\"\n",
    "else:\n",
    "    significance = \"Fail to reject the null hypothesis. There is no significant association.\"\n",
    "\n",
    "# Create a bar plot to visualize the proportions\n",
    "plt.figure(figsize=(8, 6))\n",
    "sns.barplot(data=train, x=\"paperless_billing_encoded\", y=\"churn_encoded\")\n",
    "plt.title(\"Impact of Paperless Billing on Churn\")\n",
    "plt.xlabel(\"Paperless Billing\")\n",
    "plt.ylabel(\"Proportion of Churn\")\n",
    "plt.xticks([0, 1], ['No Paperless Billing', 'Paperless Billing'])\n",
    "plt.show()\n",
    "\n",
    "# Display the formatted contingency table\n",
    "contingency_table_formatted = tabulate(contingency_table, headers=['Churn: No', 'Churn: Yes'], showindex=['No Paperless Billing', 'Paperless Billing'], tablefmt='pretty')\n",
    "print(contingency_table_formatted)\n",
    "\n",
    "# Print the chi-squared statistic and p-value\n",
    "print(\"Chi-squared statistic:\", chi2)\n",
    "print(\"p-value:\", p_value)\n",
    "\n",
    "# Print the significance interpretation\n",
    "print(significance)\n"
   ]
  },
  {
   "cell_type": "markdown",
   "id": "57dd1852",
   "metadata": {},
   "source": [
    "Type of test:- Chi-squared test    \n",
    "It assess the association between two categorical variables, \n",
    "'paperless_billing_encoded' and 'churn_encoded', in the dataset.\n",
    "\n",
    "Hypothesis:\n",
    "\n",
    "Null Hypothesis (H0): There is no significant association between 'paperless_billing_encoded' and 'churn_encoded'.\n",
    "Alternative Hypothesis (H1): There is a significant association between 'paperless_billing_encoded' and 'churn_encoded'."
   ]
  },
  {
   "cell_type": "markdown",
   "id": "551a33e6",
   "metadata": {},
   "source": [
    "\n",
    "Exploration Summary:-\n",
    "   -  The large chi-squared statistic and very small p-value indicate a significant association between the variables, which indicates that billing preferences play a role in customer decisions to churn.    \n",
    " \n",
    "\n"
   ]
  },
  {
   "cell_type": "code",
   "execution_count": 27,
   "id": "9b5fee2b",
   "metadata": {},
   "outputs": [],
   "source": [
    "#keep 'paperless_billing_encoded',\n",
    "#list includes columns that are being excluded from the dataset\n",
    "# For training set\n",
    "columns_to_drop =['customer_id', 'gender', 'senior_citizen', 'partner', 'dependents',\n",
    "       'tenure', 'phone_service', 'multiple_lines', 'internet_service_type_id',\n",
    "       'online_security', 'online_backup', 'device_protection', 'tech_support',\n",
    "       'streaming_tv', 'streaming_movies', 'contract_type_id',\n",
    "       'paperless_billing', 'payment_type_id', 'monthly_charges',\n",
    "       'total_charges', 'churn', 'internet_service_type', 'payment_type',\n",
    "       'contract_type', 'multiple_lines_No phone service',\n",
    "       'multiple_lines_Yes', 'online_security_No internet service',\n",
    "       'online_security_Yes', 'online_backup_No internet service',\n",
    "       'online_backup_Yes', 'payment_type_Credit card (automatic)',\n",
    "       'payment_type_Electronic check', 'payment_type_Mailed check',\n",
    "       'contract_type_One year', 'contract_type_Two year',\n",
    "       'tech_support_No internet service', 'tech_support_Yes',\n",
    "       'streaming_tv_No internet service', 'streaming_tv_Yes',\n",
    "       'streaming_movies_No internet service', 'streaming_movies_Yes',\n",
    "       'device_protection_No internet service', 'device_protection_Yes',\n",
    "       'partner_encoded', 'dependents_encoded', 'phone_service_encoded',\n",
    "        'churn_encoded', 'gender_encoded',\n",
    "       'contract_type_month_to_month']\n",
    "\n",
    "#prepares the training, validation, and testing datasets \n",
    "#by selecting specific columns and target variable for each set\n",
    "\n",
    "X_train = train.drop(columns=columns_to_drop)\n",
    "y_train = train['churn_encoded']\n",
    "\n",
    "# For validation set\n",
    "X_val = validate.drop(columns=columns_to_drop)\n",
    "y_val = validate['churn_encoded']\n",
    "\n",
    "# For testing set\n",
    "X_test = test.drop(columns=columns_to_drop)\n",
    "y_test = test['churn_encoded']\n",
    "\n"
   ]
  },
  {
   "cell_type": "markdown",
   "id": "097beba5",
   "metadata": {},
   "source": [
    "<div style=\"background-color: lightblue; padding: 40px; font-size: 18px;\">\n",
    "            Implementing Logistic Regression, Random Forest, and K-Nearest Neighbors (KNN) classification algorithms using Python's scikit-learn library\n",
    "</div>"
   ]
  },
  {
   "cell_type": "code",
   "execution_count": 28,
   "id": "b29c1a75",
   "metadata": {},
   "outputs": [
    {
     "name": "stdout",
     "output_type": "stream",
     "text": [
      "Model: Logistic Regression\n",
      "Accuracy: 0.7346\n",
      "Precision: 0.0000\n",
      "Recall: 0.0000\n",
      "F1-Score: 0.0000\n",
      "ROC-AUC: 0.5000\n",
      "confusion_matrix:\n",
      "---------------\n",
      "[[1035    0]\n",
      " [ 374    0]]\n",
      "==================================================\n",
      "Model: Random Forest\n",
      "Accuracy: 0.7346\n",
      "Precision: 0.0000\n",
      "Recall: 0.0000\n",
      "F1-Score: 0.0000\n",
      "ROC-AUC: 0.5000\n",
      "confusion_matrix:\n",
      "---------------\n",
      "[[1035    0]\n",
      " [ 374    0]]\n",
      "==================================================\n",
      "Model: K-Nearest Neighbors\n",
      "Accuracy: 0.5444\n",
      "Precision: 0.3416\n",
      "Recall: 0.7727\n",
      "F1-Score: 0.4738\n",
      "ROC-AUC: 0.6173\n",
      "confusion_matrix:\n",
      "---------------\n",
      "[[478 557]\n",
      " [ 85 289]]\n",
      "==================================================\n"
     ]
    },
    {
     "name": "stderr",
     "output_type": "stream",
     "text": [
      "/opt/homebrew/anaconda3/lib/python3.11/site-packages/sklearn/metrics/_classification.py:1344: UndefinedMetricWarning: Precision is ill-defined and being set to 0.0 due to no predicted samples. Use `zero_division` parameter to control this behavior.\n",
      "  _warn_prf(average, modifier, msg_start, len(result))\n",
      "/opt/homebrew/anaconda3/lib/python3.11/site-packages/sklearn/metrics/_classification.py:1344: UndefinedMetricWarning: Precision is ill-defined and being set to 0.0 due to no predicted samples. Use `zero_division` parameter to control this behavior.\n",
      "  _warn_prf(average, modifier, msg_start, len(result))\n"
     ]
    }
   ],
   "source": [
    "from sklearn.model_selection import train_test_split\n",
    "from sklearn.linear_model import LogisticRegression\n",
    "from sklearn.ensemble import RandomForestClassifier\n",
    "from sklearn.neighbors import KNeighborsClassifier\n",
    "from sklearn.metrics import accuracy_score, precision_score, recall_score, f1_score, roc_auc_score, confusion_matrix\n",
    "\n",
    "\n",
    "# Logistic Regression\n",
    "logreg_model = LogisticRegression()\n",
    "logreg_model.fit(X_train, y_train)\n",
    "logreg_y_val_pred = logreg_model.predict(X_val)\n",
    "\n",
    "# Random Forest\n",
    "rf_model = RandomForestClassifier()\n",
    "rf_model.fit(X_train, y_train)\n",
    "rf_y_val_pred = rf_model.predict(X_val)\n",
    "\n",
    "# K-Nearest Neighbors (KNN)\n",
    "knn_model = KNeighborsClassifier()\n",
    "knn_model.fit(X_train, y_train)\n",
    "knn_y_val_pred = knn_model.predict(X_val)\n",
    "\n",
    "# Calculate evaluation metrics for each model\n",
    "def evaluate_model(y_true, y_pred, model_name):\n",
    "    accuracy = accuracy_score(y_true, y_pred)\n",
    "    precision = precision_score(y_true, y_pred)\n",
    "    recall = recall_score(y_true, y_pred)\n",
    "    f1 = f1_score(y_true, y_pred)\n",
    "    #(Receiver Operating Characteristic - Area Under the Curve)\n",
    "    #ROC-AUC is a commonly used evaluation metric for binary classification problems\n",
    "    roc_auc = roc_auc_score(y_true, y_pred)\n",
    "    \n",
    "    print(f\"Model: {model_name}\")\n",
    "    print(f\"Accuracy: {accuracy:.4f}\")\n",
    "    print(f\"Precision: {precision:.4f}\")\n",
    "    print(f\"Recall: {recall:.4f}\")\n",
    "    print(f\"F1-Score: {f1:.4f}\")\n",
    "    print(f\"ROC-AUC: {roc_auc:.4f}\")\n",
    "    print(\"confusion_matrix:\")\n",
    "    print(\"---------------\")\n",
    "    print(confusion_matrix(y_true, y_pred))\n",
    "    print(\"=\" * 50)\n",
    "\n",
    "evaluate_model(y_val, logreg_y_val_pred, \"Logistic Regression\")\n",
    "evaluate_model(y_val, rf_y_val_pred, \"Random Forest\")\n",
    "evaluate_model(y_val, knn_y_val_pred, \"K-Nearest Neighbors\")\n"
   ]
  },
  {
   "cell_type": "code",
   "execution_count": 29,
   "id": "3359de9b",
   "metadata": {},
   "outputs": [
    {
     "name": "stdout",
     "output_type": "stream",
     "text": [
      "Model: Top Model on Test Set\n",
      "Accuracy: 0.7346\n",
      "Precision: 0.0000\n",
      "Recall: 0.0000\n",
      "F1-Score: 0.0000\n",
      "ROC-AUC: 0.5000\n",
      "confusion_matrix:\n",
      "---------------\n",
      "[[1035    0]\n",
      " [ 374    0]]\n",
      "==================================================\n"
     ]
    },
    {
     "name": "stderr",
     "output_type": "stream",
     "text": [
      "/opt/homebrew/anaconda3/lib/python3.11/site-packages/sklearn/metrics/_classification.py:1344: UndefinedMetricWarning: Precision is ill-defined and being set to 0.0 due to no predicted samples. Use `zero_division` parameter to control this behavior.\n",
      "  _warn_prf(average, modifier, msg_start, len(result))\n"
     ]
    }
   ],
   "source": [
    "# Train and fine-tune models on the training set and validate on the validation set\n",
    "\n",
    "# Assuming 'top_model' is the selected top-performing model\n",
    "top_model = RandomForestClassifier()  \n",
    "\n",
    "# Train the top model on the entire training set\n",
    "top_model.fit(X_train, y_train)\n",
    "\n",
    "# Make predictions on the test set\n",
    "test_predictions = top_model.predict(X_test)\n",
    "\n",
    "# Calculate evaluation metrics for the top model on the test set\n",
    "evaluate_model(y_test, test_predictions, \"Top Model on Test Set\")\n"
   ]
  },
  {
   "cell_type": "markdown",
   "id": "85ee17a9",
   "metadata": {},
   "source": [
    "<div style=\"background-color: lightgreen; padding: 40px; font-size: 18px;\">\n",
    " -  The poor performance of the models suggests that paperless billing alone may not be a strong indicator of customer churn. This could mean that other factors beyond paperless billing play a more influential role in determining whether a customer churns or not. To improve predictions, we could adjust model settings (hyperparameters) or include more features to better understand what drives customer churn.   \n",
    " \n",
    "</div> \n"
   ]
  },
  {
   "cell_type": "markdown",
   "id": "77083471",
   "metadata": {},
   "source": [
    " \n",
    " \n",
    " 3. Question: Identify the major contributing factor/factors of customer churn ?\n",
    "\n",
    "\n",
    "    \n",
    "       - Approach: Perform exploratory data analysis to identify the most frequent characteristics associated with churned customers. Use visualizations like bar plots or heatmaps to show the distribution of features such as contract type, internet service, and online security among churned customers.\n",
    "     \n",
    "    \n",
    "      - Insights: By analyzing the features that are most prevalent among churned customers, you can identify potential areas for improvement that might help reduce churn.\n",
    "    \n",
    "    \n"
   ]
  },
  {
   "cell_type": "markdown",
   "id": "adac3924",
   "metadata": {},
   "source": [
    "Type of test:- A two-sample t-test to compare the mean monthly charges between churned and non-churned customers \n",
    "in a telecommunications dataset. \n",
    "\n",
    " - Null Hypothesis (H0): There is no significant difference in mean monthly charges between churned and non-churned customers.\n",
    " - Alternative Hypothesis (H1): There is a significant difference in mean monthly charges between churned and non-churned customers."
   ]
  },
  {
   "cell_type": "code",
   "execution_count": 15,
   "id": "9ba7de59",
   "metadata": {},
   "outputs": [
    {
     "name": "stdout",
     "output_type": "stream",
     "text": [
      "t-statistic: 13.267338007913029\n",
      "p-value: 2.177453642763241e-39\n",
      "Reject the null hypothesis. There is a significant difference in mean monthly charges.\n"
     ]
    }
   ],
   "source": [
    "# Create samples for churned and non-churned customers\n",
    "churned = train[train['churn_encoded'] == 1]['monthly_charges']\n",
    "non_churned = train[train['churn_encoded'] == 0]['monthly_charges']\n",
    "\n",
    "# Perform two-sample t-test\n",
    "t_statistic, p_value = stats.ttest_ind(churned, non_churned, equal_var=True)\n",
    "\n",
    "# Print the results\n",
    "print(\"t-statistic:\", t_statistic)\n",
    "print(\"p-value:\", p_value)\n",
    "\n",
    "alpha = 0.05\n",
    "\n",
    "# Interpret results\n",
    "if p_value < alpha:\n",
    "    print(\"Reject the null hypothesis. There is a significant difference in mean monthly charges.\")\n",
    "else:\n",
    "    print(\"Fail to reject the null hypothesis. There is no significant difference in mean monthly charges.\")\n",
    "\n"
   ]
  },
  {
   "cell_type": "markdown",
   "id": "ee2e2eda",
   "metadata": {},
   "source": [
    "Exploration Summary:-\n",
    " - Since the p-value (2.18e-39) is substantially less than the alpha , a statistically significant difference is confirmed in mean monthly charges between churned and non-churned customers.This insight contributes to our understanding of how monthly charges might influence customer behavior and can potentially guide strategic decisions aimed at mitigating churn and improving customer retention strategies."
   ]
  },
  {
   "cell_type": "code",
   "execution_count": 32,
   "id": "2b34e86a",
   "metadata": {},
   "outputs": [],
   "source": [
    "#list includes columns that are being excluded from the dataset\n",
    "#Keeping 'paperless_billing_encoded','tenure','total_charges','monthly_charges',\n",
    "\n",
    "# For training set\n",
    "columns_to_drop =['customer_id', 'gender', 'senior_citizen', 'partner', 'dependents',\n",
    "        'phone_service', 'multiple_lines', 'internet_service_type_id',\n",
    "       'online_security', 'online_backup', 'device_protection', 'tech_support',\n",
    "       'streaming_tv', 'streaming_movies', 'contract_type_id',\n",
    "       'paperless_billing', 'payment_type_id', \n",
    "       'churn', 'internet_service_type', 'payment_type',\n",
    "       'contract_type', 'multiple_lines_No phone service',\n",
    "       'multiple_lines_Yes', 'online_security_No internet service',\n",
    "       'online_security_Yes', 'online_backup_No internet service',\n",
    "       'online_backup_Yes', 'payment_type_Credit card (automatic)',\n",
    "       'payment_type_Electronic check', 'payment_type_Mailed check',\n",
    "       'contract_type_One year', 'contract_type_Two year',\n",
    "       'tech_support_No internet service', 'tech_support_Yes',\n",
    "       'streaming_tv_No internet service', 'streaming_tv_Yes',\n",
    "       'streaming_movies_No internet service', 'streaming_movies_Yes',\n",
    "       'device_protection_No internet service', 'device_protection_Yes',\n",
    "       'partner_encoded', 'dependents_encoded', 'phone_service_encoded',\n",
    "        'churn_encoded', 'gender_encoded',\n",
    "       'contract_type_month_to_month']\n",
    "\n",
    "\n",
    "#prepares the training, validation, and testing datasets \n",
    "#by selecting specific columns and target variable for each set\n",
    "\n",
    "\n",
    "X_train = train.drop(columns=columns_to_drop)\n",
    "y_train = train['churn_encoded']\n",
    "\n",
    "# For validation set\n",
    "X_val = validate.drop(columns=columns_to_drop)\n",
    "y_val = validate['churn_encoded']\n",
    "\n",
    "# For testing set\n",
    "X_test = test.drop(columns=columns_to_drop)\n",
    "y_test = test['churn_encoded']\n",
    "\n"
   ]
  },
  {
   "cell_type": "markdown",
   "id": "b4babaeb",
   "metadata": {},
   "source": [
    "<div style=\"background-color: lightblue; padding: 40px; font-size: 18px;\">\n",
    "            Implementing Logistic Regression, Random Forest, and K-Nearest Neighbors (KNN) classification algorithms using Python's scikit-learn library\n",
    "</div>"
   ]
  },
  {
   "cell_type": "code",
   "execution_count": 33,
   "id": "d34ef5c2",
   "metadata": {},
   "outputs": [
    {
     "name": "stdout",
     "output_type": "stream",
     "text": [
      "Model: Logistic Regression\n",
      "Accuracy: 0.7857\n",
      "Precision: 0.6429\n",
      "Recall: 0.4332\n",
      "F1-Score: 0.5176\n",
      "ROC-AUC: 0.6731\n",
      "confusion_matrix:\n",
      "---------------\n",
      "[[945  90]\n",
      " [212 162]]\n",
      "==================================================\n",
      "Model: Random Forest\n",
      "Accuracy: 0.7693\n",
      "Precision: 0.5788\n",
      "Recall: 0.4813\n",
      "F1-Score: 0.5255\n",
      "ROC-AUC: 0.6774\n",
      "confusion_matrix:\n",
      "---------------\n",
      "[[904 131]\n",
      " [194 180]]\n",
      "==================================================\n",
      "Model: K-Nearest Neighbors\n",
      "Accuracy: 0.7644\n",
      "Precision: 0.5724\n",
      "Recall: 0.4439\n",
      "F1-Score: 0.5000\n",
      "ROC-AUC: 0.6620\n",
      "confusion_matrix:\n",
      "---------------\n",
      "[[911 124]\n",
      " [208 166]]\n",
      "==================================================\n",
      "\n",
      "Feature Importance Analysis:\n",
      "                     Feature  Importance\n",
      "1            monthly_charges    0.383307\n",
      "2              total_charges    0.357387\n",
      "0                     tenure    0.227234\n",
      "3  paperless_billing_encoded    0.032071\n"
     ]
    },
    {
     "data": {
      "image/png": "[encoded data removed]",
      "text/plain": [
       "<Figure size 1000x600 with 1 Axes>"
      ]
     },
     "metadata": {},
     "output_type": "display_data"
    }
   ],
   "source": [
    "from sklearn.model_selection import train_test_split\n",
    "from sklearn.linear_model import LogisticRegression\n",
    "from sklearn.ensemble import RandomForestClassifier\n",
    "from sklearn.neighbors import KNeighborsClassifier\n",
    "from sklearn.metrics import accuracy_score, precision_score, recall_score, f1_score, roc_auc_score, confusion_matrix\n",
    "import pandas as pd\n",
    "import seaborn as sns\n",
    "import matplotlib.pyplot as plt\n",
    "\n",
    "\n",
    "# Logistic Regression\n",
    "logreg_model = LogisticRegression()\n",
    "logreg_model.fit(X_train, y_train)\n",
    "logreg_y_val_pred = logreg_model.predict(X_val)\n",
    "\n",
    "# Random Forest\n",
    "rf_model = RandomForestClassifier()\n",
    "rf_model.fit(X_train, y_train)\n",
    "rf_y_val_pred = rf_model.predict(X_val)\n",
    "\n",
    "# K-Nearest Neighbors (KNN)\n",
    "knn_model = KNeighborsClassifier()\n",
    "knn_model.fit(X_train, y_train)\n",
    "knn_y_val_pred = knn_model.predict(X_val)\n",
    "\n",
    "# Calculate evaluation metrics for each model\n",
    "def evaluate_model(y_true, y_pred, model_name):\n",
    "    accuracy = accuracy_score(y_true, y_pred)\n",
    "    precision = precision_score(y_true, y_pred)\n",
    "    recall = recall_score(y_true, y_pred)\n",
    "    f1 = f1_score(y_true, y_pred)\n",
    "    roc_auc = roc_auc_score(y_true, y_pred)\n",
    "    \n",
    "    print(f\"Model: {model_name}\")\n",
    "    print(f\"Accuracy: {accuracy:.4f}\")\n",
    "    print(f\"Precision: {precision:.4f}\")\n",
    "    print(f\"Recall: {recall:.4f}\")\n",
    "    print(f\"F1-Score: {f1:.4f}\")\n",
    "    print(f\"ROC-AUC: {roc_auc:.4f}\")\n",
    "    print(\"confusion_matrix:\")\n",
    "    print(\"---------------\")\n",
    "    print(confusion_matrix(y_true, y_pred))\n",
    "    print(\"=\" * 50)\n",
    "\n",
    "# Evaluate models\n",
    "evaluate_model(y_val, logreg_y_val_pred, \"Logistic Regression\")\n",
    "evaluate_model(y_val, rf_y_val_pred, \"Random Forest\")\n",
    "evaluate_model(y_val, knn_y_val_pred, \"K-Nearest Neighbors\")\n",
    "\n",
    "# Feature Importance Analysis using Random Forest\n",
    "rf_model.fit(X_train, y_train)\n",
    "feature_importances = rf_model.feature_importances_\n",
    "\n",
    "# Create a DataFrame to display feature importances along with their corresponding column names\n",
    "feature_importance_df = pd.DataFrame({'Feature': X_train.columns, 'Importance': feature_importances})\n",
    "\n",
    "# Sort the DataFrame by Importance in descending order\n",
    "feature_importance_df = feature_importance_df.sort_values(by='Importance', ascending=False)\n",
    "\n",
    "# Print the sorted feature importances\n",
    "print(\"\\nFeature Importance Analysis:\")\n",
    "print(feature_importance_df)\n",
    "\n",
    "# Plotting Feature Importance\n",
    "plt.figure(figsize=(10, 6))\n",
    "sns.barplot(data=feature_importance_df, x='Importance', y='Feature')\n",
    "plt.title(\"Feature Importance Analysis\")\n",
    "plt.xlabel(\"Importance\")\n",
    "plt.ylabel(\"Feature\")\n",
    "plt.xticks(rotation=45)\n",
    "plt.tight_layout()\n",
    "plt.show()\n"
   ]
  },
  {
   "cell_type": "code",
   "execution_count": 34,
   "id": "1903b0fc",
   "metadata": {},
   "outputs": [
    {
     "name": "stdout",
     "output_type": "stream",
     "text": [
      "Model: Top Model on Test Set\n",
      "Accuracy: 0.8048\n",
      "Precision: 0.6800\n",
      "Recall: 0.5000\n",
      "F1-Score: 0.5763\n",
      "ROC-AUC: 0.7075\n",
      "confusion_matrix:\n",
      "---------------\n",
      "[[947  88]\n",
      " [187 187]]\n",
      "==================================================\n"
     ]
    }
   ],
   "source": [
    "# Train and fine-tune models on the training set and validate on the validation set\n",
    "\n",
    "# Assuming 'top_model' is the selected top-performing model\n",
    "top_model = LogisticRegression()  \n",
    "\n",
    "# Train the top model on the entire training set\n",
    "top_model.fit(X_train, y_train)\n",
    "\n",
    "# Make predictions on the test set\n",
    "test_predictions = top_model.predict(X_test)\n",
    "\n",
    "# Calculate evaluation metrics for the top model on the test set\n",
    "evaluate_model(y_test, test_predictions, \"Top Model on Test Set\")\n"
   ]
  },
  {
   "cell_type": "markdown",
   "id": "35a1ab3a",
   "metadata": {},
   "source": [
    "<div style=\"background-color: lightgreen; padding: 40px; font-size: 18px;\">\n",
    " Summary:-\n",
    " \n",
    "    \n",
    " - Feature Importance Analysis clearly shows that features like \"monthly_charges,\" \"total_charges,\" and \"tenure\" \n",
    "    strongly influence predictions, emphasizing their importance in understanding and anticipating customer behavior.  \n",
    " \n",
    "    - The major factor that influence customer churn is monthly charges.  \n",
    "    - Logistic Regression model has the highest accuracy, precision, and F1-score, as well as a relatively higher ROC-AUC compared to the other two models. \n",
    "</div> \n"
   ]
  },
  {
   "cell_type": "markdown",
   "id": "7536b0dd",
   "metadata": {},
   "source": [
    "-4 Question: Do more females churn than males?\n",
    "\n",
    " - Approach: Examine the churn distribution based on gender. Utilize a count plot to visualize how churn rates differ between male and female customers.\n",
    "\n",
    " - Insights: Analyzing the count plot depicting the churn rates among genders can reveal whether there's a notable discrepancy in churn between females and males. This insight helps in understanding potential gender-related patterns in customer churn. If the churn rate for females is significantly higher than for males, it could warrant further investigation into factors contributing to this disparity, which might involve gender-specific retention strategies."
   ]
  },
  {
   "cell_type": "code",
   "execution_count": 9,
   "id": "61f91bf0",
   "metadata": {},
   "outputs": [],
   "source": [
    "# Split data into three parts train,validate and test set (before the start of exploration) \n",
    "# Training Set (train): Approximately 60% of the original dataset (20% of 80%)\n",
    "# Validation Set (validate): Approximately 15% of the original dataset (25% of 60%)\n",
    "# Test Set (test): Approximately 20% of the original dataset\n",
    "train, validate, test = split_function(telco, 'churn_encoded')"
   ]
  },
  {
   "cell_type": "code",
   "execution_count": 76,
   "id": "1a2ebab9",
   "metadata": {},
   "outputs": [
    {
     "data": {
      "image/png": "[encoded data removed]",
      "text/plain": [
       "<Figure size 600x400 with 1 Axes>"
      ]
     },
     "metadata": {},
     "output_type": "display_data"
    }
   ],
   "source": [
    "#count plot visualization \n",
    "plt.figure(figsize=(6, 4))  # Adjust the figure size if needed\n",
    "sns.countplot(data=train, x=\"gender\", hue=\"churn\")\n",
    "plt.title(\"Churn by Gender\")\n",
    "plt.xlabel(\"Gender\")\n",
    "plt.ylabel(\"Count\")\n",
    "plt.tight_layout()\n",
    "plt.show()\n"
   ]
  },
  {
   "cell_type": "markdown",
   "id": "e6aef610",
   "metadata": {},
   "source": [
    "Exploration Summary:- \n",
    "The heights of the bars are similar, it indicates that there's no significant difference in churn rates between genders. This suggests that gender alone might not be a strong predictor of churn behavior.   "
   ]
  },
  {
   "cell_type": "code",
   "execution_count": 47,
   "id": "af9260e1",
   "metadata": {},
   "outputs": [],
   "source": [
    "#list includes columns that are being excluded from the dataset\n",
    "#Keeping , 'gender_encoded',\n",
    "# For training set\n",
    "columns_to_drop =['customer_id', 'gender', 'senior_citizen', 'partner', 'dependents',\n",
    "       'tenure', 'phone_service', 'multiple_lines', 'internet_service_type_id',\n",
    "       'online_security', 'online_backup', 'device_protection', 'tech_support',\n",
    "       'streaming_tv', 'streaming_movies', 'contract_type_id',\n",
    "       'paperless_billing', 'payment_type_id', 'monthly_charges',\n",
    "       'total_charges', 'churn', 'internet_service_type', 'payment_type',\n",
    "       'contract_type', 'multiple_lines_No phone service',\n",
    "       'multiple_lines_Yes', 'online_security_No internet service',\n",
    "       'online_security_Yes', 'online_backup_No internet service',\n",
    "       'online_backup_Yes', 'payment_type_Credit card (automatic)',\n",
    "       'payment_type_Electronic check', 'payment_type_Mailed check',\n",
    "       'contract_type_One year', 'contract_type_Two year',\n",
    "       'tech_support_No internet service', 'tech_support_Yes',\n",
    "       'streaming_tv_No internet service', 'streaming_tv_Yes',\n",
    "       'streaming_movies_No internet service', 'streaming_movies_Yes',\n",
    "       'device_protection_No internet service', 'device_protection_Yes',\n",
    "       'partner_encoded', 'dependents_encoded', 'phone_service_encoded',\n",
    "       'paperless_billing_encoded', 'churn_encoded',\n",
    "       'contract_type_month_to_month']\n",
    "\n",
    "#prepares the training, validation, and testing datasets \n",
    "#by selecting specific columns and target variable for each set\n",
    "\n",
    "X_train = train.drop(columns=columns_to_drop)\n",
    "y_train = train['churn_encoded']\n",
    "\n",
    "# For validation set\n",
    "X_val = validate.drop(columns=columns_to_drop)\n",
    "y_val = validate['churn_encoded']\n",
    "\n",
    "# For testing set\n",
    "X_test = test.drop(columns=columns_to_drop)\n",
    "y_test = test['churn_encoded']\n",
    "\n"
   ]
  },
  {
   "cell_type": "markdown",
   "id": "50dc5485",
   "metadata": {},
   "source": [
    "<div style=\"background-color: lightblue; padding: 40px; font-size: 18px;\">\n",
    "            Implementing Logistic Regression, Random Forest, and K-Nearest Neighbors (KNN) classification algorithms using Python's scikit-learn library\n",
    "</div>"
   ]
  },
  {
   "cell_type": "code",
   "execution_count": 48,
   "id": "82eb1fd9",
   "metadata": {},
   "outputs": [
    {
     "name": "stdout",
     "output_type": "stream",
     "text": [
      "Model: Logistic Regression\n",
      "Accuracy: 0.7346\n",
      "Precision: 0.0000\n",
      "Recall: 0.0000\n",
      "F1-Score: 0.0000\n",
      "ROC-AUC: 0.5000\n",
      "confusion_matrix:\n",
      "---------------\n",
      "[[1035    0]\n",
      " [ 374    0]]\n",
      "==================================================\n",
      "Model: Random Forest\n",
      "Accuracy: 0.7346\n",
      "Precision: 0.0000\n",
      "Recall: 0.0000\n",
      "F1-Score: 0.0000\n",
      "ROC-AUC: 0.5000\n",
      "confusion_matrix:\n",
      "---------------\n",
      "[[1035    0]\n",
      " [ 374    0]]\n",
      "==================================================\n",
      "Model: K-Nearest Neighbors\n",
      "Accuracy: 0.5053\n",
      "Precision: 0.2635\n",
      "Recall: 0.4813\n",
      "F1-Score: 0.3406\n",
      "ROC-AUC: 0.4976\n",
      "confusion_matrix:\n",
      "---------------\n",
      "[[532 503]\n",
      " [194 180]]\n",
      "==================================================\n"
     ]
    },
    {
     "name": "stderr",
     "output_type": "stream",
     "text": [
      "/opt/homebrew/anaconda3/lib/python3.11/site-packages/sklearn/metrics/_classification.py:1344: UndefinedMetricWarning: Precision is ill-defined and being set to 0.0 due to no predicted samples. Use `zero_division` parameter to control this behavior.\n",
      "  _warn_prf(average, modifier, msg_start, len(result))\n",
      "/opt/homebrew/anaconda3/lib/python3.11/site-packages/sklearn/metrics/_classification.py:1344: UndefinedMetricWarning: Precision is ill-defined and being set to 0.0 due to no predicted samples. Use `zero_division` parameter to control this behavior.\n",
      "  _warn_prf(average, modifier, msg_start, len(result))\n"
     ]
    }
   ],
   "source": [
    "from sklearn.model_selection import train_test_split\n",
    "from sklearn.linear_model import LogisticRegression\n",
    "from sklearn.ensemble import RandomForestClassifier\n",
    "from sklearn.neighbors import KNeighborsClassifier\n",
    "from sklearn.metrics import accuracy_score, precision_score, recall_score, f1_score, roc_auc_score, confusion_matrix\n",
    "\n",
    "\n",
    "# Logistic Regression\n",
    "logreg_model = LogisticRegression()\n",
    "logreg_model.fit(X_train, y_train)\n",
    "logreg_y_val_pred = logreg_model.predict(X_val)\n",
    "\n",
    "# Random Forest\n",
    "rf_model = RandomForestClassifier()\n",
    "rf_model.fit(X_train, y_train)\n",
    "rf_y_val_pred = rf_model.predict(X_val)\n",
    "\n",
    "# K-Nearest Neighbors (KNN)\n",
    "knn_model = KNeighborsClassifier()\n",
    "knn_model.fit(X_train, y_train)\n",
    "knn_y_val_pred = knn_model.predict(X_val)\n",
    "\n",
    "# Calculate evaluation metrics for each model\n",
    "def evaluate_model(y_true, y_pred, model_name):\n",
    "    accuracy = accuracy_score(y_true, y_pred)\n",
    "    precision = precision_score(y_true, y_pred)\n",
    "    recall = recall_score(y_true, y_pred)\n",
    "    f1 = f1_score(y_true, y_pred)\n",
    "    #(Receiver Operating Characteristic - Area Under the Curve)\n",
    "    #ROC-AUC is a commonly used evaluation metric for binary classification problems\n",
    "    roc_auc = roc_auc_score(y_true, y_pred)\n",
    "    \n",
    "    print(f\"Model: {model_name}\")\n",
    "    print(f\"Accuracy: {accuracy:.4f}\")\n",
    "    print(f\"Precision: {precision:.4f}\")\n",
    "    print(f\"Recall: {recall:.4f}\")\n",
    "    print(f\"F1-Score: {f1:.4f}\")\n",
    "    print(f\"ROC-AUC: {roc_auc:.4f}\")\n",
    "    print(\"confusion_matrix:\")\n",
    "    print(\"---------------\")\n",
    "    print(confusion_matrix(y_true, y_pred))\n",
    "    print(\"=\" * 50)\n",
    "\n",
    "evaluate_model(y_val, logreg_y_val_pred, \"Logistic Regression\")\n",
    "evaluate_model(y_val, rf_y_val_pred, \"Random Forest\")\n",
    "evaluate_model(y_val, knn_y_val_pred, \"K-Nearest Neighbors\")\n"
   ]
  },
  {
   "cell_type": "code",
   "execution_count": 67,
   "id": "1540e542",
   "metadata": {},
   "outputs": [],
   "source": [
    "# Fine-tuning - Enhanced the models to improve prediction performance\n",
    "# using class weights to balance the impact of different classes in the models\n",
    "# Aims to improve the performance of the models by giving more importance to the minority class, \n",
    "# thus addressing the class imbalance issue\n"
   ]
  },
  {
   "cell_type": "code",
   "execution_count": 49,
   "id": "2a4d776d",
   "metadata": {},
   "outputs": [
    {
     "name": "stdout",
     "output_type": "stream",
     "text": [
      "Model: Weighted Logistic Regression\n",
      "Accuracy: 0.4947\n",
      "Precision: 0.2672\n",
      "Recall: 0.5187\n",
      "F1-Score: 0.3527\n",
      "ROC-AUC: 0.5024\n",
      "confusion_matrix:\n",
      "---------------\n",
      "[[503 532]\n",
      " [180 194]]\n",
      "==================================================\n",
      "Model: Weighted Random Forest\n",
      "Accuracy: 0.4947\n",
      "Precision: 0.2672\n",
      "Recall: 0.5187\n",
      "F1-Score: 0.3527\n",
      "ROC-AUC: 0.5024\n",
      "confusion_matrix:\n",
      "---------------\n",
      "[[503 532]\n",
      " [180 194]]\n",
      "==================================================\n",
      "Model: Weighted K-Nearest Neighbors\n",
      "Accuracy: 0.5053\n",
      "Precision: 0.2635\n",
      "Recall: 0.4813\n",
      "F1-Score: 0.3406\n",
      "ROC-AUC: 0.4976\n",
      "confusion_matrix:\n",
      "---------------\n",
      "[[532 503]\n",
      " [194 180]]\n",
      "==================================================\n"
     ]
    }
   ],
   "source": [
    "\n",
    "from sklearn.utils import class_weight\n",
    "\n",
    "# Calculate class weights\n",
    "class_weights = class_weight.compute_class_weight('balanced', classes=[0, 1], y=y_train)\n",
    "\n",
    "# Logistic Regression\n",
    "logreg_model_weighted = LogisticRegression(class_weight={0: class_weights[0], 1: class_weights[1]})\n",
    "logreg_model_weighted.fit(X_train, y_train)\n",
    "logreg_y_val_pred_weighted = logreg_model_weighted.predict(X_val)\n",
    "\n",
    "# Random Forest\n",
    "rf_model_weighted = RandomForestClassifier(class_weight={0: class_weights[0], 1: class_weights[1]})\n",
    "rf_model_weighted.fit(X_train, y_train)\n",
    "rf_y_val_pred_weighted = rf_model_weighted.predict(X_val)\n",
    "\n",
    "# K-Nearest Neighbors (KNN)\n",
    "knn_model_weighted = KNeighborsClassifier()\n",
    "knn_model_weighted.fit(X_train, y_train)\n",
    "knn_y_val_pred_weighted = knn_model_weighted.predict(X_val)\n",
    "\n",
    "# Evaluate the models with class weighting\n",
    "evaluate_model(y_val, logreg_y_val_pred_weighted, \"Weighted Logistic Regression\")\n",
    "evaluate_model(y_val, rf_y_val_pred_weighted, \"Weighted Random Forest\")\n",
    "evaluate_model(y_val, knn_y_val_pred_weighted, \"Weighted K-Nearest Neighbors\")\n"
   ]
  },
  {
   "cell_type": "code",
   "execution_count": 50,
   "id": "933eb8fe",
   "metadata": {},
   "outputs": [
    {
     "name": "stdout",
     "output_type": "stream",
     "text": [
      "Model: Top Model on Test Set\n",
      "Accuracy: 0.5046\n",
      "Precision: 0.2712\n",
      "Recall: 0.5134\n",
      "F1-Score: 0.3549\n",
      "ROC-AUC: 0.5074\n",
      "confusion_matrix:\n",
      "---------------\n",
      "[[519 516]\n",
      " [182 192]]\n",
      "==================================================\n"
     ]
    }
   ],
   "source": [
    "# Train and fine-tune models on the training set and validate on the validation set\n",
    "\n",
    "# Assuming 'top_model' is the selected top-performing model\n",
    "top_model = KNeighborsClassifier()  \n",
    "\n",
    "# Train the top model on the entire training set\n",
    "top_model.fit(X_train, y_train)\n",
    "\n",
    "# Make predictions on the test set\n",
    "test_predictions = top_model.predict(X_test)\n",
    "\n",
    "# Calculate evaluation metrics for the top model on the test set\n",
    "evaluate_model(y_test, test_predictions, \"Top Model on Test Set\")\n"
   ]
  },
  {
   "cell_type": "markdown",
   "id": "11d3cfca",
   "metadata": {},
   "source": [
    "<div style=\"background-color: lightgreen; padding: 40px; font-size: 18px;\">\n",
    " - Summary:-\n",
    "    \n",
    " - Although fine-tuning with class weights led to a slight performance boost, the models' accuracy and metrics remain suboptimal. This implies that while addressing class imbalance helps, other influential factors impact customer churn behavior more significantly. Exploring advanced techniques or feature engineering may yield more effective model results.\n",
    "    \n",
    "\n",
    " \n",
    "</div> \n"
   ]
  },
  {
   "cell_type": "markdown",
   "id": "448b6bc3",
   "metadata": {},
   "source": [
    "## Modeling Wrap"
   ]
  },
  {
   "cell_type": "markdown",
   "id": "a649d2f3",
   "metadata": {},
   "source": [
    "  - The evaluation of model performance demonstrates varying results across different algorithms. The logistic regression and weighted models show consistent accuracy but minimal predictive power. The random forest models exhibit better accuracy, precision, and recall rates, indicating improved overall performance. However, further fine-tuning and exploration of hyperparameters may be necessary for optimizing model efficacy and predictive capabilities"
   ]
  },
  {
   "cell_type": "markdown",
   "id": "cba8a4e4",
   "metadata": {},
   "source": [
    "## Conclusion"
   ]
  },
  {
   "cell_type": "markdown",
   "id": "0fa17e05",
   "metadata": {},
   "source": [
    " - In conclusion, this project has provided valuable insights into customer churn behavior and its relationship with various factors. Through exploratory data analysis and model evaluation, we have gained a deeper understanding of the dynamics influencing churn."
   ]
  },
  {
   "cell_type": "markdown",
   "id": "8b381272",
   "metadata": {},
   "source": [
    "## Recommendations"
   ]
  },
  {
   "cell_type": "markdown",
   "id": "d6d95c70",
   "metadata": {},
   "source": [
    " - If models are deployed, establish a monitoring system to track their performance in real-time. This ensures the models remain effective as customer behavior evolves. Explore whether there are pain points or dissatisfaction points that lead customers to churn more frequently. Consider offering incentives or tailored retention strategies to encourage longer-term contracts, potentially reducing churn."
   ]
  },
  {
   "cell_type": "markdown",
   "id": "5aef0e84",
   "metadata": {},
   "source": [
    "## Next Steps"
   ]
  },
  {
   "cell_type": "markdown",
   "id": "cdebf9ef",
   "metadata": {},
   "source": [
    " - Invest time in exploring and engineering more relevant features that could provide deeper insights into customer churn behavior. This might involve deriving new variables from existing ones or integrating external data sources that could offer valuable predictive power."
   ]
  },
  {
   "cell_type": "code",
   "execution_count": null,
   "id": "fc708c26",
   "metadata": {},
   "outputs": [],
   "source": []
  }
 ],
 "metadata": {
  "kernelspec": {
   "display_name": "Python 3 (ipykernel)",
   "language": "python",
   "name": "python3"
  },
  "language_info": {
   "codemirror_mode": {
    "name": "ipython",
    "version": 3
   },
   "file_extension": ".py",
   "mimetype": "text/x-python",
   "name": "python",
   "nbconvert_exporter": "python",
   "pygments_lexer": "ipython3",
   "version": "3.11.3"
  }
 },
 "nbformat": 4,
 "nbformat_minor": 5
}
