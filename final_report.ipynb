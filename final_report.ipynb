{
 "cells": [
  {
   "cell_type": "markdown",
   "id": "1f80988c",
   "metadata": {},
   "source": [
    "## Title"
   ]
  },
  {
   "cell_type": "markdown",
   "id": "a826b626",
   "metadata": {},
   "source": [
    " * # Investigating Drivers For Telco customer churn - A project on Machine Learning Classification Models \n"
   ]
  },
  {
   "cell_type": "markdown",
   "id": "442c35f6",
   "metadata": {},
   "source": [
    "## Imports"
   ]
  },
  {
   "cell_type": "code",
   "execution_count": null,
   "id": "a3e7e471",
   "metadata": {},
   "outputs": [],
   "source": [
    "# imports used in your project go here "
   ]
  },
  {
   "cell_type": "markdown",
   "id": "bd987be8",
   "metadata": {},
   "source": [
    "## Acquire"
   ]
  },
  {
   "cell_type": "code",
   "execution_count": null,
   "id": "ac1e4712",
   "metadata": {},
   "outputs": [],
   "source": [
    "Add information about how, where and when you acquired your data\n",
    "How/where did you get your data?\n",
    "When did you get your data?\n",
    "What is the size of your data? (columns and rows)\n",
    "What does each observation represent?\n",
    "What does each column represent?"
   ]
  },
  {
   "cell_type": "markdown",
   "id": "e39bdd61",
   "metadata": {},
   "source": [
    "#### Import acquired messy data from your acquire file here"
   ]
  },
  {
   "cell_type": "markdown",
   "id": "1193f10e",
   "metadata": {},
   "source": [
    "## Prepare"
   ]
  },
  {
   "cell_type": "code",
   "execution_count": null,
   "id": "de297473",
   "metadata": {},
   "outputs": [],
   "source": [
    "List steps taken to clean your data here\n",
    "In particular call out how you handle null values and outliers in detail\n",
    "You must do this even if you do not do anything or do not encounter any\n",
    "Any time there is potential to make changes to the data you must be upfront about the changes you make or do not make\n"
   ]
  },
  {
   "cell_type": "markdown",
   "id": "e459a3d9",
   "metadata": {},
   "source": [
    "#### Import your prepare function and use it to clean your data here\n"
   ]
  },
  {
   "cell_type": "markdown",
   "id": "0fca2b83",
   "metadata": {},
   "source": [
    "## Explore"
   ]
  },
  {
   "cell_type": "code",
   "execution_count": null,
   "id": "039530ec",
   "metadata": {},
   "outputs": [],
   "source": [
    "Here you will explore your data then highlight 4 questions that you asked of the data and how those questions influenced your analysis\n",
    "Remember to split your data before exploring how different variables relate to one another\n",
    "Each question should be stated directly\n",
    "Each question should be supported by a visualization\n",
    "Each question should be answered in natural language\n",
    "Two questions must be supported by a statistical test, but you may choose to support more than two\n",
    "See the following example, and read the comments in the next cell"
   ]
  },
  {
   "cell_type": "markdown",
   "id": "d846e6f5",
   "metadata": {},
   "source": [
    "The following empty code block is here to represent the countless questions, visualizations, and statistical tests that did not make your final report. Data scientist often create a myriad of questions, visualizations and statistical tests that do not make it into the final notebook. This is okay and expected. Remember that shotgun approaches to your data such as using pair plots to look at the relationships of each feature are a great way to explore your data, but they have no place in your final report. Your final report is about showing and supporting your findings, not showing the work you did to get there!"
   ]
  },
  {
   "cell_type": "markdown",
   "id": "52870288",
   "metadata": {},
   "source": [
    "You may use this as a template for how to ask and answer each question:"
   ]
  },
  {
   "cell_type": "markdown",
   "id": "14198dd9",
   "metadata": {},
   "source": [
    "1) Question about the data\n",
    "Ask a question about the data for which you got a meaningful result\n",
    "There is no connection can be a meaningful result"
   ]
  },
  {
   "cell_type": "markdown",
   "id": "7af594ba",
   "metadata": {},
   "source": [
    "2) Visualization of the data answering the question\n",
    "Visualizations should be accompanied by take-aways telling the reader exactly what you want them to get from the chart\n",
    "You can include theses as bullet points under the chart\n",
    "Use your chart title to provide the main take-away from each visualization\n",
    "Each visualization should answer one, and only one, of the explore questions"
   ]
  },
  {
   "cell_type": "markdown",
   "id": "1cf26377",
   "metadata": {},
   "source": [
    "3) Statistical test\n",
    "Be sure you are using the correct statistical test for the type of variables you are testing\n",
    "Be sure that you are not violating any of the assumptions for the statistical test you are choosing\n",
    "Your notebook should run and produce the results of the test you are using (This may be done through imports)\n",
    "Include an introduction to the kind of test you are doing\n",
    "Include the Ho and Ha for the test\n",
    "Include the alpha you are using\n",
    "Include the readout of the p-value for the test\n",
    "Interpret the results of the test in natural language (I reject the null hypothesis is not sufficient)\n"
   ]
  },
  {
   "cell_type": "markdown",
   "id": "6fdc87ea",
   "metadata": {},
   "source": [
    "4) Answer to the question\n",
    "Answer the question you posed of the data by referring to the chart and statistical test (if you used one)\n",
    "If the question relates to drivers, explain why the feature in question would/wouldn't make a good driver\n"
   ]
  },
  {
   "cell_type": "markdown",
   "id": "ba282db2",
   "metadata": {},
   "source": [
    "Exploration Summary\n",
    "After your explore section, before you start modeling, provide a summary of your findings in Explore\n",
    "Include a summary of your take-aways\n",
    "Include a summary of the features you examined and weather or not you will be going to Modeling with each feature and why\n",
    "It is important to note which features will be going into your model so the reader knows what features you are using to model on"
   ]
  },
  {
   "cell_type": "markdown",
   "id": "de765525",
   "metadata": {},
   "source": [
    "## Modeling"
   ]
  },
  {
   "cell_type": "markdown",
   "id": "5f57813b",
   "metadata": {},
   "source": [
    "### Introduction"
   ]
  },
  {
   "cell_type": "markdown",
   "id": "9b3244df",
   "metadata": {},
   "source": [
    "- Explain how you will be evaluating your models\n",
    "- Include the evaluation metric you will be using and why you have chosen it\n",
    "- Create a baseline and briefly explain how it was calculated"
   ]
  },
  {
   "cell_type": "markdown",
   "id": "e42fe2a1",
   "metadata": {},
   "source": [
    "### If you use code to generate your baseline run the code and generate the output here\n"
   ]
  },
  {
   "cell_type": "markdown",
   "id": "617c97ff",
   "metadata": {},
   "source": [
    "Printout should read:\n",
    "Baseline: \"number\" \"evaluation metric\""
   ]
  },
  {
   "cell_type": "markdown",
   "id": "0e1c53ef",
   "metadata": {},
   "source": [
    "## Best 3 Models"
   ]
  },
  {
   "cell_type": "markdown",
   "id": "9044b990",
   "metadata": {},
   "source": [
    " - Show the three best model results obtained using your selected features to predict the target variable\n",
    " - Typically students will show the top models they are able to generate for three different model types\n"
   ]
  },
  {
   "cell_type": "markdown",
   "id": "59365234",
   "metadata": {},
   "source": [
    "You may use this as a template for how to introduce your models:"
   ]
  },
  {
   "cell_type": "markdown",
   "id": "224c779c",
   "metadata": {},
   "source": [
    " ## Model Type   "
   ]
  },
  {
   "cell_type": "markdown",
   "id": "a3e04c7d",
   "metadata": {},
   "source": [
    "### Code that runs the best model in that model type goes here \n",
    "### (This may be imported from a module)\n"
   ]
  },
  {
   "cell_type": "markdown",
   "id": "c196307c",
   "metadata": {},
   "source": [
    "Printout of model code should read:\n",
    "\"Model Type\"\n",
    "\"evaluation metric\" on train: \"evaluation result\"\n",
    "\"evaluation metric\" on validate: \"evaluation result\"    "
   ]
  },
  {
   "cell_type": "markdown",
   "id": "54601c99",
   "metadata": {},
   "source": [
    "## Test Model"
   ]
  },
  {
   "cell_type": "markdown",
   "id": "c2c04857",
   "metadata": {},
   "source": [
    " - Choose the best model out of the three as you best model and explain why you have chosen it\n",
    " - Explain that you will now run your final model on test data to gauge how it will perform on unseen data"
   ]
  },
  {
   "cell_type": "markdown",
   "id": "14771a1a",
   "metadata": {},
   "source": [
    "### Code that runs the best overall model on test data (this may be imported from a module)\n"
   ]
  },
  {
   "cell_type": "markdown",
   "id": "e8e4c0bc",
   "metadata": {},
   "source": [
    "Printout of model code should read:\n",
    "\"Model Type\"\n",
    "\"evaluation metric\" on Test: \"evaluation result\""
   ]
  },
  {
   "cell_type": "markdown",
   "id": "32c65bf7",
   "metadata": {},
   "source": [
    "## Modeling Wrap"
   ]
  },
  {
   "cell_type": "markdown",
   "id": "e1280875",
   "metadata": {},
   "source": [
    " - Give a final interpretation of how the models test score compares to the baseline and weather you would recommend this model for production"
   ]
  },
  {
   "cell_type": "markdown",
   "id": "9291351a",
   "metadata": {},
   "source": [
    "## Conclusion"
   ]
  },
  {
   "cell_type": "markdown",
   "id": "f8607ca8",
   "metadata": {},
   "source": [
    "## Summary"
   ]
  },
  {
   "cell_type": "markdown",
   "id": "8adb1b35",
   "metadata": {},
   "source": [
    "Summarize your findings and answer the questions you brought up in explore\n",
    "Summarize how drivers discovered lead or did not lead to a successful model"
   ]
  },
  {
   "cell_type": "markdown",
   "id": "e8ce0c85",
   "metadata": {},
   "source": [
    "## Recommendations"
   ]
  },
  {
   "cell_type": "markdown",
   "id": "e55ac387",
   "metadata": {},
   "source": [
    " - Recommendations are actions the stakeholder should take based on your insights\n"
   ]
  },
  {
   "cell_type": "markdown",
   "id": "2a645c79",
   "metadata": {},
   "source": [
    "## Next Steps"
   ]
  },
  {
   "cell_type": "markdown",
   "id": "012c5507",
   "metadata": {},
   "source": [
    " - Next Steps are what you, as a Data Scientist, would do if provided more time to work on the project\n"
   ]
  },
  {
   "cell_type": "markdown",
   "id": "a442793b",
   "metadata": {},
   "source": [
    "Where there is code in your report there should also be code comments telling the reader what each code block is doing. This is true for any and all code blocks even if you are using a function to import code from a module.\n",
    "\n"
   ]
  },
  {
   "cell_type": "markdown",
   "id": "0472a107",
   "metadata": {},
   "source": [
    "**Your Notebook should contain adequate markdown that documents your thought process, decision making, and navigation through the pipeline. As a Data Scientist, your job does not end with making data discoveries. It includes effectively communicating those discoveries as well. This means documentation is a critical part of your job.**"
   ]
  },
  {
   "cell_type": "code",
   "execution_count": null,
   "id": "b38b72e7",
   "metadata": {},
   "outputs": [],
   "source": []
  },
  {
   "cell_type": "code",
   "execution_count": null,
   "id": "7e630844",
   "metadata": {},
   "outputs": [],
   "source": []
  },
  {
   "cell_type": "code",
   "execution_count": null,
   "id": "ee6f088c",
   "metadata": {},
   "outputs": [],
   "source": []
  },
  {
   "cell_type": "code",
   "execution_count": null,
   "id": "d1a44d34",
   "metadata": {},
   "outputs": [],
   "source": []
  },
  {
   "cell_type": "code",
   "execution_count": null,
   "id": "d91f6b1e",
   "metadata": {},
   "outputs": [],
   "source": []
  },
  {
   "cell_type": "code",
   "execution_count": null,
   "id": "66ac7372",
   "metadata": {},
   "outputs": [],
   "source": []
  },
  {
   "cell_type": "code",
   "execution_count": null,
   "id": "a61c479a",
   "metadata": {},
   "outputs": [],
   "source": []
  },
  {
   "cell_type": "code",
   "execution_count": null,
   "id": "cf110467",
   "metadata": {},
   "outputs": [],
   "source": []
  },
  {
   "cell_type": "code",
   "execution_count": null,
   "id": "02b90c7e",
   "metadata": {},
   "outputs": [],
   "source": []
  },
  {
   "cell_type": "code",
   "execution_count": null,
   "id": "dec78db5",
   "metadata": {},
   "outputs": [],
   "source": []
  },
  {
   "cell_type": "code",
   "execution_count": null,
   "id": "0802393f",
   "metadata": {},
   "outputs": [],
   "source": []
  },
  {
   "cell_type": "code",
   "execution_count": null,
   "id": "d77e025b",
   "metadata": {},
   "outputs": [],
   "source": []
  },
  {
   "cell_type": "code",
   "execution_count": null,
   "id": "af773804",
   "metadata": {},
   "outputs": [],
   "source": []
  },
  {
   "cell_type": "code",
   "execution_count": null,
   "id": "824605e3",
   "metadata": {},
   "outputs": [],
   "source": []
  }
 ],
 "metadata": {
  "kernelspec": {
   "display_name": "Python 3 (ipykernel)",
   "language": "python",
   "name": "python3"
  },
  "language_info": {
   "codemirror_mode": {
    "name": "ipython",
    "version": 3
   },
   "file_extension": ".py",
   "mimetype": "text/x-python",
   "name": "python",
   "nbconvert_exporter": "python",
   "pygments_lexer": "ipython3",
   "version": "3.11.3"
  }
 },
 "nbformat": 4,
 "nbformat_minor": 5
}
